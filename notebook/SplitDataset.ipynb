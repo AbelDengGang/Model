{
 "cells": [
  {
   "cell_type": "code",
   "execution_count": 8,
   "metadata": {},
   "outputs": [],
   "source": [
    "import os\n",
    "import random"
   ]
  },
  {
   "cell_type": "code",
   "execution_count": 9,
   "metadata": {},
   "outputs": [],
   "source": [
    "image_home = r'/home/gang/dataset/custom_cell_phone_person/images/' "
   ]
  },
  {
   "cell_type": "code",
   "execution_count": 22,
   "metadata": {},
   "outputs": [],
   "source": [
    "file_list_dir = image_home + r\"../\"\n",
    "dataset_split = [0.7,0.3] # 测试集和验证集的划分\n",
    "train_file_list = file_list_dir + \"train_list.txt\"\n",
    "val_file_list = file_list_dir + \"val_list.txt\""
   ]
  },
  {
   "cell_type": "code",
   "execution_count": 23,
   "metadata": {},
   "outputs": [
    {
     "name": "stdout",
     "output_type": "stream",
     "text": [
      "['/home/gang/dataset/custom_cell_phone_person/images/491bb7981bd0aa35d53758fbf4385c93.jpg', '/home/gang/dataset/custom_cell_phone_person/images/3a354c3ab783b0c983dd45f396d32d52.jpg', '/home/gang/dataset/custom_cell_phone_person/images/226babc8f917c91680a1431c696560f6.jpg', '/home/gang/dataset/custom_cell_phone_person/images/822d52681f8d1fdbd8dbfcedd3e027ae.jpg', '/home/gang/dataset/custom_cell_phone_person/images/8ea5e9dfa6631fc2c2b081dcc83c5576.jpg', '/home/gang/dataset/custom_cell_phone_person/images/fa145d3c00d613869daf7a782a075457.jpg', '/home/gang/dataset/custom_cell_phone_person/images/0d01cfad5b66e88e64f840f808bbc8a2.jpg', '/home/gang/dataset/custom_cell_phone_person/images/4f2ceba4223fd690a8ee01aaa440748a.jpg', '/home/gang/dataset/custom_cell_phone_person/images/265ba5b186e52a109637a6c64505c105.jpg', '/home/gang/dataset/custom_cell_phone_person/images/6ec6e763a98dab4795333539e39e1003.jpg', '/home/gang/dataset/custom_cell_phone_person/images/7eb7f853c25fb9dbcbd7b0955d65e6a2.jpg', '/home/gang/dataset/custom_cell_phone_person/images/b2e26dd4cf554a9bdb7b50f9db702ea2.jpg', '/home/gang/dataset/custom_cell_phone_person/images/addaab734f9adeb89eaa7d0b54404668.jpg', '/home/gang/dataset/custom_cell_phone_person/images/f47ff0e8b5c19ad9059ede0e5ac5a481.jpg', '/home/gang/dataset/custom_cell_phone_person/images/dcb1a4c4a37f7dd745a4ada5e2cb6990.jpg', '/home/gang/dataset/custom_cell_phone_person/images/a88f4188626e2747ad0badfb59339a45.jpg', '/home/gang/dataset/custom_cell_phone_person/images/b758d8f8569c7f5a235dca40032155da.jpg', '/home/gang/dataset/custom_cell_phone_person/images/8a1c863a30afffe41d976939fe11dc1f.jpg', '/home/gang/dataset/custom_cell_phone_person/images/ebe59bea2bb1fadc82d40c963b62ac7e.jpg', '/home/gang/dataset/custom_cell_phone_person/images/1607926112426.jpg', '/home/gang/dataset/custom_cell_phone_person/images/5506ce9233f56f47ca4354d6a9c2649a.jpg', '/home/gang/dataset/custom_cell_phone_person/images/e91a68c2dfca794fbb01174371640527.jpg', '/home/gang/dataset/custom_cell_phone_person/images/1607926115882.jpg', '/home/gang/dataset/custom_cell_phone_person/images/1607926116978.jpg', '/home/gang/dataset/custom_cell_phone_person/images/e8b36d89edeac393739a37226df0a72e.jpg', '/home/gang/dataset/custom_cell_phone_person/images/86e27b7b291393379718c88f9c68f943.jpg', '/home/gang/dataset/custom_cell_phone_person/images/1607926091258.jpg', '/home/gang/dataset/custom_cell_phone_person/images/508b29adec9e541a364c9f69925bcde8.jpg', '/home/gang/dataset/custom_cell_phone_person/images/687a32152bc0fd67aa8067f5cf632e7e.jpg', '/home/gang/dataset/custom_cell_phone_person/images/9e93cdd9fb2c2213bac3ae27936cf853.jpg', '/home/gang/dataset/custom_cell_phone_person/images/1607926117410.jpg', '/home/gang/dataset/custom_cell_phone_person/images/1607926109134.jpg', '/home/gang/dataset/custom_cell_phone_person/images/bf504b8af00349d0773d70221defba4f.jpg', '/home/gang/dataset/custom_cell_phone_person/images/e1013b47fd4614ca9d48d9f03601012b.jpg', '/home/gang/dataset/custom_cell_phone_person/images/611f4d5ed362853a52840a6ed28f371e.jpg', '/home/gang/dataset/custom_cell_phone_person/images/772b728b86495564fdc5201f8e998aa2.jpg', '/home/gang/dataset/custom_cell_phone_person/images/b14d1c9432996662ba6c5cb6c0701422.jpg', '/home/gang/dataset/custom_cell_phone_person/images/1607926094550.jpg', '/home/gang/dataset/custom_cell_phone_person/images/2257c4e0cc2f58b7d9d990545cd7c472.jpg', '/home/gang/dataset/custom_cell_phone_person/images/e876c4c8be2fb9df01f96042cf57d33d.jpg', '/home/gang/dataset/custom_cell_phone_person/images/aa63b85063bd145d402ef9b019e36c1e.jpg', '/home/gang/dataset/custom_cell_phone_person/images/cde14dbe019cc67ee079e2e6c0a701fc.jpg', '/home/gang/dataset/custom_cell_phone_person/images/a68eeb9fb403b5d1962464f88bbbb708.jpg', '/home/gang/dataset/custom_cell_phone_person/images/1607926088966.jpg', '/home/gang/dataset/custom_cell_phone_person/images/1607926112458.jpg', '/home/gang/dataset/custom_cell_phone_person/images/747efb5f4d4e525b380bae70cb3d476d.jpg', '/home/gang/dataset/custom_cell_phone_person/images/660889af266107e09611f4b5bb9d2b94.jpg', '/home/gang/dataset/custom_cell_phone_person/images/9da86b7a3da4001908d736793d3bdb28.jpg', '/home/gang/dataset/custom_cell_phone_person/images/c8c5e137a7973e291a096c3c18412f38.jpg', '/home/gang/dataset/custom_cell_phone_person/images/a1f9d738d9ba5edaedd2504aa03ebb79.jpg', '/home/gang/dataset/custom_cell_phone_person/images/82cfc1ee44e2ba73af411cfaacaf3c99.jpg', '/home/gang/dataset/custom_cell_phone_person/images/0ed14ba886feaf91082ccf1fe7650431.jpg', '/home/gang/dataset/custom_cell_phone_person/images/ff348451b9eb1474c72b188f35d9b220.jpg', '/home/gang/dataset/custom_cell_phone_person/images/1731a02efeab7cc812ff4ebe58d7f69c.jpg', '/home/gang/dataset/custom_cell_phone_person/images/adcba922494f9aab13585644922736cb.jpg', '/home/gang/dataset/custom_cell_phone_person/images/47a44ab8d94d72489f25b8d86eb9e4f7.jpg', '/home/gang/dataset/custom_cell_phone_person/images/45ecaefa28c8b685c323564f52b4af6e.jpg', '/home/gang/dataset/custom_cell_phone_person/images/72145bb155a6d92c5d9db555d766444d.jpg', '/home/gang/dataset/custom_cell_phone_person/images/1607926105978.jpg', '/home/gang/dataset/custom_cell_phone_person/images/9df0f6cbb5f11d713d56a0c97b869321.jpg', '/home/gang/dataset/custom_cell_phone_person/images/986f4795191e43ef692e5391ec330ef1.jpg', '/home/gang/dataset/custom_cell_phone_person/images/978a40312cf94083e1a9f476407c0640.jpg', '/home/gang/dataset/custom_cell_phone_person/images/9aba20867a90cde8a1a95a0338e821c6.jpg', '/home/gang/dataset/custom_cell_phone_person/images/34a646994460889fd1bcc73006976968.jpg', '/home/gang/dataset/custom_cell_phone_person/images/1b7ac8f119c441c38154cdf2398d2ae8.jpg', '/home/gang/dataset/custom_cell_phone_person/images/1607926115846.jpg', '/home/gang/dataset/custom_cell_phone_person/images/1607926114882.jpg', '/home/gang/dataset/custom_cell_phone_person/images/9d81d9f94e1b2e86240e42017f38b155.jpg', '/home/gang/dataset/custom_cell_phone_person/images/1607926087038.jpg', '/home/gang/dataset/custom_cell_phone_person/images/a9cdbdc3680bc6b23784da5b8b339672.jpg', '/home/gang/dataset/custom_cell_phone_person/images/54b49471ca5b5df2e045201507706179.jpg', '/home/gang/dataset/custom_cell_phone_person/images/acd1ed4771f1b733c571d668e6d7076c.jpg', '/home/gang/dataset/custom_cell_phone_person/images/22cee0a8a3aa0cce05434892a3dc9a29.jpg', '/home/gang/dataset/custom_cell_phone_person/images/380b902d4e4d5b72a166f37025734eae.jpg', '/home/gang/dataset/custom_cell_phone_person/images/24ec332bf8b3f5af2fd92ab1e6981631.jpg', '/home/gang/dataset/custom_cell_phone_person/images/c1634fb3de80e333e463223776a972fc.jpg', '/home/gang/dataset/custom_cell_phone_person/images/eb2246731b6d06e21f68d5dbcb9b8b74.jpg', '/home/gang/dataset/custom_cell_phone_person/images/7a9e8db788ca5ba9e696dab7812c525f.jpg', '/home/gang/dataset/custom_cell_phone_person/images/af4c72c02b6248849f8aeb645e85d2b8.jpg']\n"
     ]
    }
   ],
   "source": [
    "list_name = []\n",
    "for file in os.listdir(image_home):\n",
    "    file_path = os.path.join(image_home, file)  \n",
    "    if os.path.isdir(file_path):  \n",
    "        listdir(file_path, list_name)  \n",
    "    else:\n",
    "        file_name_parts = os.path.splitext(file_path)\n",
    "        if len(file_name_parts) == 2:\n",
    "            if file_name_parts[1] == \".jpg\":\n",
    "                list_name.append(file_path)\n",
    "\n",
    "print(list_name)"
   ]
  },
  {
   "cell_type": "markdown",
   "metadata": {},
   "source": [
    "划分训练集和测试集"
   ]
  },
  {
   "cell_type": "code",
   "execution_count": 29,
   "metadata": {},
   "outputs": [
    {
     "name": "stdout",
     "output_type": "stream",
     "text": [
      "total:train:vs = 79:55:24\n"
     ]
    }
   ],
   "source": [
    "train_set_count = int(len(list_name) * (dataset_split[0]) / (dataset_split[0] + dataset_split[1]))\n",
    "val_set_count = len(list_name) - train_set_count\n",
    "print(f'total:train:vs = {len(list_name)}:{train_set_count}:{val_set_count}')"
   ]
  },
  {
   "cell_type": "code",
   "execution_count": 30,
   "metadata": {},
   "outputs": [],
   "source": [
    "train_list = random.sample(list_name,train_set_count)\n",
    "val_list = list(set(list_name) - set(train_list))"
   ]
  },
  {
   "cell_type": "code",
   "execution_count": 31,
   "metadata": {},
   "outputs": [],
   "source": [
    "with open(train_file_list,'w') as f:\n",
    "    for line in train_list:\n",
    "        f.write(line + '\\n')\n",
    "    f.close()"
   ]
  },
  {
   "cell_type": "code",
   "execution_count": 32,
   "metadata": {},
   "outputs": [],
   "source": [
    "with open(val_file_list, 'w') as f:\n",
    "    for line in val_list:\n",
    "        f.write(line + '\\n')\n",
    "    f.close()"
   ]
  },
  {
   "cell_type": "code",
   "execution_count": null,
   "metadata": {},
   "outputs": [],
   "source": []
  }
 ],
 "metadata": {
  "kernelspec": {
   "display_name": "YOLO",
   "language": "python",
   "name": "yolo"
  },
  "language_info": {
   "codemirror_mode": {
    "name": "ipython",
    "version": 3
   },
   "file_extension": ".py",
   "mimetype": "text/x-python",
   "name": "python",
   "nbconvert_exporter": "python",
   "pygments_lexer": "ipython3",
   "version": "3.6.12"
  }
 },
 "nbformat": 4,
 "nbformat_minor": 4
}
