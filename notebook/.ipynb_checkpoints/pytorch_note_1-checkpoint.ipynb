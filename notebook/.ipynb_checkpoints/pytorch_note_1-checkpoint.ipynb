{
 "cells": [
  {
   "cell_type": "markdown",
   "metadata": {},
   "source": [
    "# 和tensor有关的笔记"
   ]
  },
  {
   "cell_type": "code",
   "execution_count": 14,
   "metadata": {},
   "outputs": [],
   "source": [
    "import torch as t\n",
    "import numpy as np"
   ]
  },
  {
   "cell_type": "markdown",
   "metadata": {},
   "source": [
    "# 产生tensor的各种方法"
   ]
  },
  {
   "cell_type": "markdown",
   "metadata": {},
   "source": [
    "## 从numpy生成tensor"
   ]
  },
  {
   "cell_type": "code",
   "execution_count": 21,
   "metadata": {},
   "outputs": [
    {
     "name": "stdout",
     "output_type": "stream",
     "text": [
      "tensor([[1, 2, 3],\n",
      "        [4, 5, 6],\n",
      "        [7, 8, 9]])\n",
      "tensor([[0, 2, 3],\n",
      "        [4, 5, 6],\n",
      "        [7, 8, 9]])\n"
     ]
    }
   ],
   "source": [
    "n = np.array([[1,2,3],[4,5,6],[7,8,9]])\n",
    "x = t.from_numpy(n)\n",
    "print(x)\n",
    "# n和x内部的数据是否使用相同的内存呢?\n",
    "n[0][0] = 0\n",
    "# 是的!\n",
    "print(x)"
   ]
  },
  {
   "cell_type": "markdown",
   "metadata": {},
   "source": [
    "## 定义空tensor 和随机数tensor"
   ]
  },
  {
   "cell_type": "code",
   "execution_count": 4,
   "metadata": {},
   "outputs": [],
   "source": [
    "x = t.Tensor(3,2,4)"
   ]
  },
  {
   "cell_type": "markdown",
   "metadata": {},
   "source": [
    "空tensor,没有初始化,值的范围很大.\n",
    "随机数初始化后的tensor值的范围在0~1之间.\n",
    "==要注意这两者的区别=="
   ]
  },
  {
   "cell_type": "code",
   "execution_count": 5,
   "metadata": {},
   "outputs": [
    {
     "data": {
      "text/plain": [
       "tensor([[[-1.7409e+38,  2.4619e-38, -4.2196e+34,  6.4035e-33],\n",
       "         [-1.7546e+38,  2.4617e-38,  1.0006e-34, -1.7546e+38]],\n",
       "\n",
       "        [[ 2.4617e-38,  1.0006e-34, -1.7546e+38,  2.4617e-38],\n",
       "         [ 6.7146e-27, -1.7546e+38,  2.4617e-38,  1.1001e-22]],\n",
       "\n",
       "        [[-1.7546e+38,  2.4617e-38,  1.0006e-34, -1.7546e+38],\n",
       "         [ 2.4617e-38,  1.0006e-34, -1.7546e+38,  2.4617e-38]]])"
      ]
     },
     "execution_count": 5,
     "metadata": {},
     "output_type": "execute_result"
    }
   ],
   "source": [
    "x"
   ]
  },
  {
   "cell_type": "code",
   "execution_count": 6,
   "metadata": {},
   "outputs": [],
   "source": [
    "x = t.rand(3,2,4)"
   ]
  },
  {
   "cell_type": "code",
   "execution_count": 7,
   "metadata": {},
   "outputs": [
    {
     "data": {
      "text/plain": [
       "tensor([[[0.5279, 0.7379, 0.9777, 0.8669],\n",
       "         [0.2066, 0.1798, 0.4155, 0.9717]],\n",
       "\n",
       "        [[0.8519, 0.8616, 0.6183, 0.9190],\n",
       "         [0.1633, 0.5433, 0.9924, 0.6934]],\n",
       "\n",
       "        [[0.0455, 0.1906, 0.3859, 0.4200],\n",
       "         [0.2102, 0.2523, 0.9625, 0.8250]]])"
      ]
     },
     "execution_count": 7,
     "metadata": {},
     "output_type": "execute_result"
    }
   ],
   "source": [
    "x"
   ]
  },
  {
   "cell_type": "markdown",
   "metadata": {},
   "source": [
    "## 通过复制的方法生成tensor\n",
    "- 浅拷贝: tensor底层的数据使用同一块内存,改变任意一个,其他的值都会变\n",
    "- 深拷贝: tensor底层的数据使用独立内存,改变一个,其他的值不会变"
   ]
  },
  {
   "cell_type": "code",
   "execution_count": 9,
   "metadata": {},
   "outputs": [
    {
     "name": "stdout",
     "output_type": "stream",
     "text": [
      "tensor(9.)\n"
     ]
    }
   ],
   "source": [
    "# 使用=是浅拷贝\n",
    "x2 = x\n",
    "x[0][0][0] = 9\n",
    "print(x2[0][0][0])"
   ]
  },
  {
   "cell_type": "code",
   "execution_count": 10,
   "metadata": {},
   "outputs": [
    {
     "name": "stdout",
     "output_type": "stream",
     "text": [
      "tensor(1.)\n"
     ]
    }
   ],
   "source": [
    "# 使用clone是深拷贝\n",
    "x[0][0][0] = 1\n",
    "x3 = x.clone()\n",
    "x[0][0][0] = 8\n",
    "print(x3[0][0][0])\n"
   ]
  },
  {
   "cell_type": "code",
   "execution_count": 13,
   "metadata": {},
   "outputs": [
    {
     "name": "stdout",
     "output_type": "stream",
     "text": [
      "Help on built-in function detach:\n",
      "\n",
      "detach(...) method of torch.Tensor instance\n",
      "    Returns a new Tensor, detached from the current graph.\n",
      "    \n",
      "    The result will never require gradient.\n",
      "    \n",
      "    .. note::\n",
      "    \n",
      "      Returned Tensor shares the same storage with the original one.\n",
      "      In-place modifications on either of them will be seen, and may trigger\n",
      "      errors in correctness checks.\n",
      "      IMPORTANT NOTE: Previously, in-place size / stride / storage changes\n",
      "      (such as `resize_` / `resize_as_` / `set_` / `transpose_`) to the returned tensor\n",
      "      also update the original tensor. Now, these in-place changes will not update the\n",
      "      original tensor anymore, and will instead trigger an error.\n",
      "      For sparse tensors:\n",
      "      In-place indices / values changes (such as `zero_` / `copy_` / `add_`) to the\n",
      "      returned tensor will not update the original tensor anymore, and will instead\n",
      "      trigger an error.\n",
      "\n",
      "tensor(7.)\n"
     ]
    }
   ],
   "source": [
    "# detatch返回使用同一片内存的tensor,\n",
    "# 但是这个函数不是让你拷贝数据的,\n",
    "# 而是让tensor从当前的计算图中脱离出来\n",
    "help(x.detach)\n",
    "x4=x.detach()\n",
    "x[0][0][0] = 7\n",
    "print(x4[0][0][0])"
   ]
  },
  {
   "cell_type": "markdown",
   "metadata": {},
   "source": [
    "## 从tensor转变成scaler\n",
    "只有0维的tensor才可以转成scaler,否则会报错"
   ]
  },
  {
   "cell_type": "code",
   "execution_count": 30,
   "metadata": {},
   "outputs": [
    {
     "name": "stdout",
     "output_type": "stream",
     "text": [
      "tensor(0) torch.Size([])\n"
     ]
    },
    {
     "data": {
      "text/plain": [
       "torch.Tensor"
      ]
     },
     "execution_count": 30,
     "metadata": {},
     "output_type": "execute_result"
    }
   ],
   "source": [
    "# s 虽然只有1个数据,但是它依然是tensor\n",
    "s = x[0][0]\n",
    "print(s,s.shape)\n",
    "type(s)"
   ]
  },
  {
   "cell_type": "code",
   "execution_count": 31,
   "metadata": {},
   "outputs": [
    {
     "name": "stdout",
     "output_type": "stream",
     "text": [
      "0\n"
     ]
    },
    {
     "data": {
      "text/plain": [
       "int"
      ]
     },
     "execution_count": 31,
     "metadata": {},
     "output_type": "execute_result"
    }
   ],
   "source": [
    "# s1 是scaler\n",
    "s1 = s.item()\n",
    "print(s1)\n",
    "type(s1)"
   ]
  }
 ],
 "metadata": {
  "kernelspec": {
   "display_name": "Python 3",
   "language": "python",
   "name": "python3"
  },
  "language_info": {
   "codemirror_mode": {
    "name": "ipython",
    "version": 3
   },
   "file_extension": ".py",
   "mimetype": "text/x-python",
   "name": "python",
   "nbconvert_exporter": "python",
   "pygments_lexer": "ipython3",
   "version": "3.8.3"
  }
 },
 "nbformat": 4,
 "nbformat_minor": 4
}
