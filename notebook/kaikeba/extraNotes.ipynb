{
 "cells": [
  {
   "cell_type": "markdown",
   "metadata": {},
   "source": [
    "# 神经网络压缩和蒸馏: \n",
    "- NLP 模型压缩方法综述https://tech.sina.com.cn/roll/2020-09-21/doc-iivhvpwy7915585.shtml\n",
    "- 模型压缩 | 知识蒸馏经典解读 https://cloud.tencent.com/developer/article/1687328\n",
    "- 从入门到放弃：深度学习中的模型蒸馏技术 https://zhuanlan.zhihu.com/p/93287223-\n",
    "- 模型蒸馏（Distilling）与精细模型网络：https://blog.csdn.net/shentanyue/article/details/83539382"
   ]
  },
  {
   "cell_type": "markdown",
   "metadata": {},
   "source": [
    "# 反向传播相关\n",
    "- 卷积神经网络(CNN)反向传播算法推导  https://zhuanlan.zhihu.com/p/61898234\n",
    "- 卷积神经网络(CNN)反向传播算法 https://www.cnblogs.com/pinard/p/6494810.html\n",
    "- 反向传播之六：CNN 卷积层反向传播：https://zhuanlan.zhihu.com/p/40951745"
   ]
  },
  {
   "cell_type": "code",
   "execution_count": null,
   "metadata": {},
   "outputs": [],
   "source": []
  }
 ],
 "metadata": {
  "kernelspec": {
   "display_name": "Python 3",
   "language": "python",
   "name": "python3"
  },
  "language_info": {
   "codemirror_mode": {
    "name": "ipython",
    "version": 3
   },
   "file_extension": ".py",
   "mimetype": "text/x-python",
   "name": "python",
   "nbconvert_exporter": "python",
   "pygments_lexer": "ipython3",
   "version": "3.6.12"
  },
  "latex_envs": {
   "LaTeX_envs_menu_present": true,
   "autoclose": false,
   "autocomplete": true,
   "bibliofile": "biblio.bib",
   "cite_by": "apalike",
   "current_citInitial": 1,
   "eqLabelWithNumbers": true,
   "eqNumInitial": 1,
   "hotkeys": {
    "equation": "Ctrl-E",
    "itemize": "Ctrl-I"
   },
   "labels_anchors": false,
   "latex_user_defs": false,
   "report_style_numbering": false,
   "user_envs_cfg": false
  },
  "toc": {
   "base_numbering": 1,
   "nav_menu": {},
   "number_sections": true,
   "sideBar": true,
   "skip_h1_title": false,
   "title_cell": "Table of Contents",
   "title_sidebar": "Contents",
   "toc_cell": false,
   "toc_position": {},
   "toc_section_display": true,
   "toc_window_display": false
  }
 },
 "nbformat": 4,
 "nbformat_minor": 4
}
